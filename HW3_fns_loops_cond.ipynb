{
 "cells": [
  {
   "cell_type": "markdown",
   "metadata": {},
   "source": [
    "### Problem 1\n",
    "Write a function that checks if a given number is prime or not. Do not use any helping libraries (i.e., no import). A function should be called `is_prime(number)` and should **return** `True` or `False`.\n",
    "<br>\n",
    "For example <br>\n",
    "`print(is_prime(17))` should print `True` while `print(is_prime(16))` should print `False`\n"
   ]
  },
  {
   "cell_type": "code",
   "execution_count": 10,
   "metadata": {},
   "outputs": [],
   "source": [
    "# write your function here\n",
    "def isprime(num):\n",
    "    if num%3 and num%2 != 0 : # prime numbers are positive integers \n",
    "                                #greater than 2 that are NOT divisible by 2\n",
    "        \n",
    "        return True  \n",
    "    return False\n",
    "\n",
    "\n"
   ]
  },
  {
   "cell_type": "code",
   "execution_count": 16,
   "metadata": {},
   "outputs": [
    {
     "name": "stdout",
     "output_type": "stream",
     "text": [
      "False\n"
     ]
    }
   ],
   "source": [
    "# test your function here\n",
    "print(isprime(3))\n"
   ]
  },
  {
   "cell_type": "markdown",
   "metadata": {
    "tags": []
   },
   "source": [
    "### Problem 2\n",
    "**Guessing Game Challenge**\n",
    "<br>\n",
    "Write a program that picks a random integer from 1 to 50, and has players guess the number. The rules are:\n",
    "1. If a player's guess is less than 1 or greater than 50, say \"OUT OF BOUNDS”\n",
    "2. On a player's first turn, if their guess is \n",
    "    - within 5 of the target number but larger, return \"WARM Positive!”\n",
    "    - within 5 of the target number but smaller, return \"WARM Negative!”\n",
    "    - further than 5 away from the number, return \"COLD!”\n",
    "3. When the player's guess equals the number, tell them they've guessed correctly. what was the target number and how many guesses it took!"
   ]
  },
  {
   "cell_type": "code",
   "execution_count": 1,
   "metadata": {},
   "outputs": [],
   "source": [
    "# Code here \n",
    "# import library that will pick the random number\n",
    "import random \n",
    "\n",
    "#picking a random number from 1-50 and setting it to this variable\n",
    "num = random.randint(1,50)\n",
    "num\n",
    "\n",
    "#set guesses to 0 so i can create a counter for the guesses \n",
    "guesses = 0\n",
    "\n",
    "\n"
   ]
  },
  {
   "cell_type": "code",
   "execution_count": 2,
   "metadata": {},
   "outputs": [
    {
     "name": "stdin",
     "output_type": "stream",
     "text": [
      "guess a number..any number 33\n"
     ]
    },
    {
     "name": "stdout",
     "output_type": "stream",
     "text": [
      "WARM positive!\n"
     ]
    },
    {
     "name": "stdin",
     "output_type": "stream",
     "text": [
      "guess a number..any number 31\n"
     ]
    },
    {
     "name": "stdout",
     "output_type": "stream",
     "text": [
      "WARM positive!\n"
     ]
    },
    {
     "name": "stdin",
     "output_type": "stream",
     "text": [
      "guess a number..any number 29\n"
     ]
    },
    {
     "name": "stdout",
     "output_type": "stream",
     "text": [
      "WARM positive!\n"
     ]
    },
    {
     "name": "stdin",
     "output_type": "stream",
     "text": [
      "guess a number..any number 28\n"
     ]
    },
    {
     "name": "stdout",
     "output_type": "stream",
     "text": [
      "you've guessed correctly it took you 4 attempt(s) the answer is  28\n"
     ]
    }
   ],
   "source": [
    "while True:\n",
    "\n",
    "#create input box for users guessed number\n",
    "    guess_num = int(input('guess a number..any number'))\n",
    "\n",
    "    \n",
    "        \n",
    "#create statement for guessed number if it is outside of the guessing bounds \n",
    "    if guess_num < 1  or guess_num > 50:\n",
    "        print(\"OUT OF BOUNDS\")\n",
    "\n",
    "        # add guess to the list of guesses\n",
    "        guesses += 1\n",
    "        continue \n",
    "\n",
    "    # within 5 of the target num but larger, return \"WARM Positive!”\n",
    "    if abs(num - guess_num) <=5 and num < guess_num: \n",
    "        # add guess to the list of guesses\n",
    "        guesses += 1\n",
    "        print(\"WARM positive!\")\n",
    "        continue\n",
    "\n",
    "    # within 5 of the target num but smaller, return \"WARM Negative!”\n",
    "    if abs(num - guess_num) <=5 and num > guess_num:\n",
    "        guesses += 1\n",
    "        print(\"WARM negative!\")\n",
    "        continue\n",
    "\n",
    "    # further than 5 away from the num, return \"COLD!”\n",
    "    if abs(guess_num - num ) > 5:\n",
    "        guesses += 1\n",
    "        print(\"COLD!\")\n",
    "        continue \n",
    "        \n",
    "        \n",
    "    # create statement for guess if it is CORRECT then\n",
    "    #print out the length of the guesses which is the # of attempts\n",
    "    if guess_num == num: \n",
    "        guesses += 1\n",
    "        print(\"you've guessed correctly it took you\", guesses, \"attempt(s) the answer is \", num)\n",
    "        \n",
    "        break\n",
    "        \n",
    "\n",
    "\n"
   ]
  },
  {
   "cell_type": "markdown",
   "metadata": {
    "tags": []
   },
   "source": [
    "### "
   ]
  },
  {
   "cell_type": "code",
   "execution_count": null,
   "metadata": {
    "tags": []
   },
   "outputs": [],
   "source": []
  },
  {
   "cell_type": "code",
   "execution_count": null,
   "metadata": {},
   "outputs": [],
   "source": []
  },
  {
   "cell_type": "markdown",
   "metadata": {},
   "source": [
    "## Problem 3\n",
    "Write a function that prints out the multiplication table for a given input number (integer). The function name is `multiplication_table` and takes one input `num`. The function prints out the multiplication table as shown in the example and returns a list of all the displayed numbers"
   ]
  },
  {
   "cell_type": "raw",
   "metadata": {},
   "source": [
    "For example if num = 2, multiplication_table(num) should print \n",
    "\n",
    "2\n",
    "4\n",
    "6\n",
    "8\n",
    "10\n",
    "12\n",
    "14\n",
    "16\n",
    "18\n",
    "20\n",
    "\n",
    "and return a list l=[2,4,6,8,10,12,14,16,18,20]"
   ]
  },
  {
   "cell_type": "code",
   "execution_count": 19,
   "metadata": {},
   "outputs": [],
   "source": [
    "# write your function here\n",
    "\n",
    "def multiplication_table(num):\n",
    "    for i in range(1,11):\n",
    "        i * num \n",
    "        \n",
    "        \n",
    "        print(i*num)"
   ]
  },
  {
   "cell_type": "code",
   "execution_count": 20,
   "metadata": {},
   "outputs": [
    {
     "name": "stdout",
     "output_type": "stream",
     "text": [
      "4\n",
      "8\n",
      "12\n",
      "16\n",
      "20\n",
      "24\n",
      "28\n",
      "32\n",
      "36\n",
      "40\n",
      "None\n"
     ]
    }
   ],
   "source": [
    "# test your function here\n",
    "print(multiplication_table(4))\n",
    "      \n",
    "\n",
    "\n"
   ]
  },
  {
   "cell_type": "code",
   "execution_count": null,
   "metadata": {},
   "outputs": [],
   "source": []
  }
 ],
 "metadata": {
  "kernelspec": {
   "display_name": "Python 3 (ipykernel)",
   "language": "python",
   "name": "python3"
  },
  "language_info": {
   "codemirror_mode": {
    "name": "ipython",
    "version": 3
   },
   "file_extension": ".py",
   "mimetype": "text/x-python",
   "name": "python",
   "nbconvert_exporter": "python",
   "pygments_lexer": "ipython3",
   "version": "3.9.12"
  }
 },
 "nbformat": 4,
 "nbformat_minor": 4
}
